{
 "cells": [
  {
   "cell_type": "code",
   "execution_count": 1,
   "metadata": {},
   "outputs": [],
   "source": [
    "import torch\n",
    "from transformers import AutoTokenizer, AutoModelForSequenceClassification, Trainer, TrainingArguments\n",
    "from datasets import load_dataset, load_metric\n",
    "import random\n",
    "import numpy as np"
   ]
  },
  {
   "cell_type": "code",
   "execution_count": 2,
   "metadata": {},
   "outputs": [],
   "source": [
    "# Constants\n",
    "BATCH_SIZE = 16  # Batch size for training and evaluation\n",
    "EPOCHS = 3  # Number of training epochs\n",
    "LEARNING_RATE = 2e-5  # Learning rate for fine-tuning\n",
    "SEED = 42\n",
    "TASK_NAME = \"sst2\"  # GLUE task name"
   ]
  },
  {
   "cell_type": "code",
   "execution_count": 3,
   "metadata": {},
   "outputs": [],
   "source": [
    "# Set seeds for reproducibility\n",
    "torch.manual_seed(SEED)\n",
    "random.seed(SEED)\n",
    "np.random.seed(SEED)\n",
    "if torch.cuda.is_available():\n",
    "    torch.cuda.manual_seed_all(SEED)\n",
    "    device = torch.device(\"cuda\")\n",
    "    torch.cuda.empty_cache()  # Clear GPU memory before starting\n",
    "else:\n",
    "    device = torch.device(\"cpu\")\n",
    "    print(\"Using CPU\")"
   ]
  },
  {
   "cell_type": "code",
   "execution_count": 4,
   "metadata": {},
   "outputs": [
    {
     "name": "stdout",
     "output_type": "stream",
     "text": [
      "Loading tokenizer...\n"
     ]
    }
   ],
   "source": [
    "# Load tokenizer\n",
    "print(\"Loading tokenizer...\")\n",
    "tokenizer = AutoTokenizer.from_pretrained(\"albert-base-v2\", trust_remote_code=True)"
   ]
  },
  {
   "cell_type": "code",
   "execution_count": 5,
   "metadata": {},
   "outputs": [
    {
     "name": "stdout",
     "output_type": "stream",
     "text": [
      "Loading GLUE dataset for task: sst2...\n"
     ]
    },
    {
     "data": {
      "application/vnd.jupyter.widget-view+json": {
       "model_id": "3ad4b2ddd79d4f1c8a9620b093deb9ae",
       "version_major": 2,
       "version_minor": 0
      },
      "text/plain": [
       "Downloading data:   0%|          | 0.00/3.11M [00:00<?, ?B/s]"
      ]
     },
     "metadata": {},
     "output_type": "display_data"
    },
    {
     "data": {
      "application/vnd.jupyter.widget-view+json": {
       "model_id": "c1198d2f25d742589c86ec4625a6084d",
       "version_major": 2,
       "version_minor": 0
      },
      "text/plain": [
       "Downloading data:   0%|          | 0.00/72.8k [00:00<?, ?B/s]"
      ]
     },
     "metadata": {},
     "output_type": "display_data"
    },
    {
     "data": {
      "application/vnd.jupyter.widget-view+json": {
       "model_id": "41c9e66c2c8c48f6b25362b39d4b46e8",
       "version_major": 2,
       "version_minor": 0
      },
      "text/plain": [
       "Downloading data:   0%|          | 0.00/148k [00:00<?, ?B/s]"
      ]
     },
     "metadata": {},
     "output_type": "display_data"
    },
    {
     "data": {
      "application/vnd.jupyter.widget-view+json": {
       "model_id": "35484a3ef2ef4925a4e7f2b744b48e18",
       "version_major": 2,
       "version_minor": 0
      },
      "text/plain": [
       "Generating train split:   0%|          | 0/67349 [00:00<?, ? examples/s]"
      ]
     },
     "metadata": {},
     "output_type": "display_data"
    },
    {
     "data": {
      "application/vnd.jupyter.widget-view+json": {
       "model_id": "186961e90b6c49a1bc1b63d8a6d193e2",
       "version_major": 2,
       "version_minor": 0
      },
      "text/plain": [
       "Generating validation split:   0%|          | 0/872 [00:00<?, ? examples/s]"
      ]
     },
     "metadata": {},
     "output_type": "display_data"
    },
    {
     "data": {
      "application/vnd.jupyter.widget-view+json": {
       "model_id": "9435c32300c649aca5d61e361f5ed3d8",
       "version_major": 2,
       "version_minor": 0
      },
      "text/plain": [
       "Generating test split:   0%|          | 0/1821 [00:00<?, ? examples/s]"
      ]
     },
     "metadata": {},
     "output_type": "display_data"
    }
   ],
   "source": [
    "# Load GLUE dataset\n",
    "print(f\"Loading GLUE dataset for task: {TASK_NAME}...\")\n",
    "dataset = load_dataset(\"glue\", TASK_NAME)"
   ]
  },
  {
   "cell_type": "code",
   "execution_count": 6,
   "metadata": {},
   "outputs": [],
   "source": [
    "# Tokenize the data\n",
    "def tokenize_function(examples):\n",
    "    return tokenizer(examples[\"sentence\"], padding=\"max_length\", truncation=True, max_length=128)"
   ]
  },
  {
   "cell_type": "code",
   "execution_count": 7,
   "metadata": {},
   "outputs": [
    {
     "name": "stdout",
     "output_type": "stream",
     "text": [
      "Tokenizing dataset...\n"
     ]
    },
    {
     "data": {
      "application/vnd.jupyter.widget-view+json": {
       "model_id": "f48999be387c472cb948d6873f29c074",
       "version_major": 2,
       "version_minor": 0
      },
      "text/plain": [
       "Map:   0%|          | 0/67349 [00:00<?, ? examples/s]"
      ]
     },
     "metadata": {},
     "output_type": "display_data"
    },
    {
     "data": {
      "application/vnd.jupyter.widget-view+json": {
       "model_id": "2b77cee7d1334fc58693a63ebc8e9aab",
       "version_major": 2,
       "version_minor": 0
      },
      "text/plain": [
       "Map:   0%|          | 0/872 [00:00<?, ? examples/s]"
      ]
     },
     "metadata": {},
     "output_type": "display_data"
    },
    {
     "data": {
      "application/vnd.jupyter.widget-view+json": {
       "model_id": "f3b4725341084b46b66a054897e2b5cd",
       "version_major": 2,
       "version_minor": 0
      },
      "text/plain": [
       "Map:   0%|          | 0/1821 [00:00<?, ? examples/s]"
      ]
     },
     "metadata": {},
     "output_type": "display_data"
    }
   ],
   "source": [
    "print(\"Tokenizing dataset...\")\n",
    "tokenized_dataset = dataset.map(tokenize_function, batched=True)\n",
    "\n",
    "# Set the format for PyTorch\n",
    "tokenized_dataset.set_format(\"torch\", columns=[\"input_ids\", \"attention_mask\", \"label\"])"
   ]
  },
  {
   "cell_type": "code",
   "execution_count": 8,
   "metadata": {},
   "outputs": [
    {
     "name": "stdout",
     "output_type": "stream",
     "text": [
      "Loading ALBERT model for sequence classification...\n"
     ]
    },
    {
     "name": "stderr",
     "output_type": "stream",
     "text": [
      "Some weights of AlbertForSequenceClassification were not initialized from the model checkpoint at albert-base-v2 and are newly initialized: ['classifier.bias', 'classifier.weight']\n",
      "You should probably TRAIN this model on a down-stream task to be able to use it for predictions and inference.\n"
     ]
    }
   ],
   "source": [
    "# Load pre-trained ALBERT model for sequence classification\n",
    "print(\"Loading ALBERT model for sequence classification...\")\n",
    "model = AutoModelForSequenceClassification.from_pretrained(\"albert-base-v2\", num_labels=2).to(device)"
   ]
  },
  {
   "cell_type": "code",
   "execution_count": 9,
   "metadata": {},
   "outputs": [],
   "source": [
    "# Define training arguments\n",
    "training_args = TrainingArguments(\n",
    "    output_dir=\"./results\",\n",
    "    evaluation_strategy=\"epoch\",\n",
    "    save_strategy=\"epoch\",\n",
    "    learning_rate=LEARNING_RATE,\n",
    "    per_device_train_batch_size=BATCH_SIZE,\n",
    "    per_device_eval_batch_size=BATCH_SIZE,\n",
    "    num_train_epochs=EPOCHS,\n",
    "    weight_decay=0.01,\n",
    "    logging_dir=\"./logs\",\n",
    "    logging_steps=50,\n",
    "    load_best_model_at_end=True,\n",
    ")"
   ]
  },
  {
   "cell_type": "code",
   "execution_count": 10,
   "metadata": {},
   "outputs": [
    {
     "name": "stderr",
     "output_type": "stream",
     "text": [
      "C:\\Users\\farha\\AppData\\Local\\Temp\\ipykernel_23620\\887877820.py:2: FutureWarning: load_metric is deprecated and will be removed in the next major version of datasets. Use 'evaluate.load' instead, from the new library 🤗 Evaluate: https://huggingface.co/docs/evaluate\n",
      "  accuracy_metric = load_metric(\"accuracy\")\n",
      "c:\\Users\\farha\\miniconda3\\Lib\\site-packages\\datasets\\load.py:759: FutureWarning: The repository for accuracy contains custom code which must be executed to correctly load the metric. You can inspect the repository content at https://raw.githubusercontent.com/huggingface/datasets/2.19.0/metrics/accuracy/accuracy.py\n",
      "You can avoid this message in future by passing the argument `trust_remote_code=True`.\n",
      "Passing `trust_remote_code=True` will be mandatory to load this metric from the next major release of `datasets`.\n",
      "  warnings.warn(\n",
      "c:\\Users\\farha\\miniconda3\\Lib\\site-packages\\datasets\\load.py:759: FutureWarning: The repository for f1 contains custom code which must be executed to correctly load the metric. You can inspect the repository content at https://raw.githubusercontent.com/huggingface/datasets/2.19.0/metrics/f1/f1.py\n",
      "You can avoid this message in future by passing the argument `trust_remote_code=True`.\n",
      "Passing `trust_remote_code=True` will be mandatory to load this metric from the next major release of `datasets`.\n",
      "  warnings.warn(\n"
     ]
    },
    {
     "data": {
      "application/vnd.jupyter.widget-view+json": {
       "model_id": "9dcfa4eebbec48df8a847fda19ad3083",
       "version_major": 2,
       "version_minor": 0
      },
      "text/plain": [
       "Downloading builder script:   0%|          | 0.00/2.32k [00:00<?, ?B/s]"
      ]
     },
     "metadata": {},
     "output_type": "display_data"
    }
   ],
   "source": [
    "# Metrics\n",
    "accuracy_metric = load_metric(\"accuracy\")\n",
    "f1_metric = load_metric(\"f1\")\n",
    "\n",
    "\n",
    "def compute_metrics(eval_pred):\n",
    "    logits, labels = eval_pred\n",
    "    predictions = torch.argmax(torch.tensor(logits), dim=-1)\n",
    "    accuracy = accuracy_metric.compute(predictions=predictions, references=labels)\n",
    "    f1 = f1_metric.compute(predictions=predictions, references=labels, average=\"weighted\")\n",
    "    return {**accuracy, **f1}"
   ]
  },
  {
   "cell_type": "code",
   "execution_count": 11,
   "metadata": {},
   "outputs": [
    {
     "name": "stdout",
     "output_type": "stream",
     "text": [
      "Initializing Trainer...\n"
     ]
    }
   ],
   "source": [
    "# Initialize Trainer\n",
    "print(\"Initializing Trainer...\")\n",
    "trainer = Trainer(\n",
    "    model=model,\n",
    "    args=training_args,\n",
    "    tokenizer=tokenizer,\n",
    "    train_dataset=tokenized_dataset[\"train\"],\n",
    "    eval_dataset=tokenized_dataset[\"validation\"],\n",
    "    compute_metrics=compute_metrics,\n",
    ")"
   ]
  },
  {
   "cell_type": "code",
   "execution_count": 12,
   "metadata": {},
   "outputs": [
    {
     "name": "stdout",
     "output_type": "stream",
     "text": [
      "Starting fine-tuning...\n"
     ]
    },
    {
     "data": {
      "application/vnd.jupyter.widget-view+json": {
       "model_id": "b9f1ee45ad1f48e293f73d76ef3653ee",
       "version_major": 2,
       "version_minor": 0
      },
      "text/plain": [
       "  0%|          | 0/12630 [00:00<?, ?it/s]"
      ]
     },
     "metadata": {},
     "output_type": "display_data"
    },
    {
     "name": "stdout",
     "output_type": "stream",
     "text": [
      "{'loss': 0.6257, 'grad_norm': 28.014461517333984, 'learning_rate': 1.992082343626287e-05, 'epoch': 0.01}\n",
      "{'loss': 0.434, 'grad_norm': 8.899468421936035, 'learning_rate': 1.9841646872525734e-05, 'epoch': 0.02}\n",
      "{'loss': 0.3498, 'grad_norm': 133.56211853027344, 'learning_rate': 1.97624703087886e-05, 'epoch': 0.04}\n",
      "{'loss': 0.4473, 'grad_norm': 116.24050903320312, 'learning_rate': 1.9683293745051467e-05, 'epoch': 0.05}\n",
      "{'loss': 0.3117, 'grad_norm': 1.8895213603973389, 'learning_rate': 1.9604117181314332e-05, 'epoch': 0.06}\n",
      "{'loss': 0.3788, 'grad_norm': 102.82685852050781, 'learning_rate': 1.95249406175772e-05, 'epoch': 0.07}\n",
      "{'loss': 0.3391, 'grad_norm': 34.11256408691406, 'learning_rate': 1.9445764053840065e-05, 'epoch': 0.08}\n",
      "{'loss': 0.2861, 'grad_norm': 32.15111541748047, 'learning_rate': 1.936658749010293e-05, 'epoch': 0.1}\n",
      "{'loss': 0.32, 'grad_norm': 34.156578063964844, 'learning_rate': 1.9287410926365797e-05, 'epoch': 0.11}\n",
      "{'loss': 0.3217, 'grad_norm': 32.44168472290039, 'learning_rate': 1.9208234362628665e-05, 'epoch': 0.12}\n",
      "{'loss': 0.3001, 'grad_norm': 14.315281867980957, 'learning_rate': 1.912905779889153e-05, 'epoch': 0.13}\n",
      "{'loss': 0.3591, 'grad_norm': 20.165006637573242, 'learning_rate': 1.9049881235154395e-05, 'epoch': 0.14}\n",
      "{'loss': 0.2872, 'grad_norm': 7.431377410888672, 'learning_rate': 1.8970704671417263e-05, 'epoch': 0.15}\n",
      "{'loss': 0.2684, 'grad_norm': 7.870627403259277, 'learning_rate': 1.8891528107680128e-05, 'epoch': 0.17}\n",
      "{'loss': 0.3034, 'grad_norm': 14.81928825378418, 'learning_rate': 1.8812351543942996e-05, 'epoch': 0.18}\n",
      "{'loss': 0.2631, 'grad_norm': 9.6268892288208, 'learning_rate': 1.873317498020586e-05, 'epoch': 0.19}\n",
      "{'loss': 0.2833, 'grad_norm': 20.672975540161133, 'learning_rate': 1.8653998416468725e-05, 'epoch': 0.2}\n",
      "{'loss': 0.3174, 'grad_norm': 14.971246719360352, 'learning_rate': 1.8574821852731593e-05, 'epoch': 0.21}\n",
      "{'loss': 0.2783, 'grad_norm': 28.073871612548828, 'learning_rate': 1.8495645288994458e-05, 'epoch': 0.23}\n",
      "{'loss': 0.3326, 'grad_norm': 32.914825439453125, 'learning_rate': 1.8416468725257326e-05, 'epoch': 0.24}\n",
      "{'loss': 0.2832, 'grad_norm': 14.347391128540039, 'learning_rate': 1.833729216152019e-05, 'epoch': 0.25}\n",
      "{'loss': 0.264, 'grad_norm': 11.94322681427002, 'learning_rate': 1.825811559778306e-05, 'epoch': 0.26}\n",
      "{'loss': 0.283, 'grad_norm': 10.11026668548584, 'learning_rate': 1.8178939034045923e-05, 'epoch': 0.27}\n",
      "{'loss': 0.2546, 'grad_norm': 50.30125427246094, 'learning_rate': 1.809976247030879e-05, 'epoch': 0.29}\n",
      "{'loss': 0.243, 'grad_norm': 18.92884063720703, 'learning_rate': 1.8020585906571656e-05, 'epoch': 0.3}\n",
      "{'loss': 0.2323, 'grad_norm': 35.62870407104492, 'learning_rate': 1.794140934283452e-05, 'epoch': 0.31}\n",
      "{'loss': 0.2602, 'grad_norm': 20.67371940612793, 'learning_rate': 1.786223277909739e-05, 'epoch': 0.32}\n",
      "{'loss': 0.2839, 'grad_norm': 15.363032341003418, 'learning_rate': 1.7783056215360253e-05, 'epoch': 0.33}\n",
      "{'loss': 0.2253, 'grad_norm': 6.37163782119751, 'learning_rate': 1.770387965162312e-05, 'epoch': 0.34}\n",
      "{'loss': 0.288, 'grad_norm': 16.79836654663086, 'learning_rate': 1.762470308788599e-05, 'epoch': 0.36}\n",
      "{'loss': 0.3037, 'grad_norm': 21.587608337402344, 'learning_rate': 1.7545526524148854e-05, 'epoch': 0.37}\n",
      "{'loss': 0.2062, 'grad_norm': 8.956506729125977, 'learning_rate': 1.746634996041172e-05, 'epoch': 0.38}\n",
      "{'loss': 0.2296, 'grad_norm': 77.84664916992188, 'learning_rate': 1.7387173396674587e-05, 'epoch': 0.39}\n",
      "{'loss': 0.2139, 'grad_norm': 9.93348217010498, 'learning_rate': 1.730799683293745e-05, 'epoch': 0.4}\n",
      "{'loss': 0.2285, 'grad_norm': 10.673099517822266, 'learning_rate': 1.7228820269200316e-05, 'epoch': 0.42}\n",
      "{'loss': 0.2291, 'grad_norm': 54.88309097290039, 'learning_rate': 1.7149643705463184e-05, 'epoch': 0.43}\n",
      "{'loss': 0.2641, 'grad_norm': 31.468551635742188, 'learning_rate': 1.707046714172605e-05, 'epoch': 0.44}\n",
      "{'loss': 0.2713, 'grad_norm': 11.359221458435059, 'learning_rate': 1.6991290577988917e-05, 'epoch': 0.45}\n",
      "{'loss': 0.2264, 'grad_norm': 25.33822250366211, 'learning_rate': 1.6912114014251785e-05, 'epoch': 0.46}\n",
      "{'loss': 0.2024, 'grad_norm': 22.827394485473633, 'learning_rate': 1.6832937450514647e-05, 'epoch': 0.48}\n",
      "{'loss': 0.3061, 'grad_norm': 5.483417987823486, 'learning_rate': 1.6753760886777515e-05, 'epoch': 0.49}\n",
      "{'loss': 0.2292, 'grad_norm': 25.577367782592773, 'learning_rate': 1.6674584323040383e-05, 'epoch': 0.5}\n",
      "{'loss': 0.224, 'grad_norm': 33.794857025146484, 'learning_rate': 1.6595407759303247e-05, 'epoch': 0.51}\n",
      "{'loss': 0.2688, 'grad_norm': 7.792995929718018, 'learning_rate': 1.6516231195566115e-05, 'epoch': 0.52}\n",
      "{'loss': 0.2347, 'grad_norm': 25.835493087768555, 'learning_rate': 1.643705463182898e-05, 'epoch': 0.53}\n",
      "{'loss': 0.2441, 'grad_norm': 20.441341400146484, 'learning_rate': 1.6357878068091845e-05, 'epoch': 0.55}\n",
      "{'loss': 0.2626, 'grad_norm': 5.335696220397949, 'learning_rate': 1.6278701504354713e-05, 'epoch': 0.56}\n",
      "{'loss': 0.2002, 'grad_norm': 80.11432647705078, 'learning_rate': 1.6199524940617578e-05, 'epoch': 0.57}\n",
      "{'loss': 0.2471, 'grad_norm': 15.592988967895508, 'learning_rate': 1.6120348376880442e-05, 'epoch': 0.58}\n",
      "{'loss': 0.2534, 'grad_norm': 27.839134216308594, 'learning_rate': 1.604117181314331e-05, 'epoch': 0.59}\n",
      "{'loss': 0.2321, 'grad_norm': 5.09823751449585, 'learning_rate': 1.596199524940618e-05, 'epoch': 0.61}\n",
      "{'loss': 0.2184, 'grad_norm': 12.24023151397705, 'learning_rate': 1.5882818685669043e-05, 'epoch': 0.62}\n",
      "{'loss': 0.2745, 'grad_norm': 16.255739212036133, 'learning_rate': 1.580364212193191e-05, 'epoch': 0.63}\n",
      "{'loss': 0.262, 'grad_norm': 14.045687675476074, 'learning_rate': 1.5724465558194776e-05, 'epoch': 0.64}\n",
      "{'loss': 0.2176, 'grad_norm': 3.311475992202759, 'learning_rate': 1.564528899445764e-05, 'epoch': 0.65}\n",
      "{'loss': 0.2199, 'grad_norm': 56.943180084228516, 'learning_rate': 1.556611243072051e-05, 'epoch': 0.67}\n",
      "{'loss': 0.2319, 'grad_norm': 6.102643966674805, 'learning_rate': 1.5486935866983373e-05, 'epoch': 0.68}\n",
      "{'loss': 0.2155, 'grad_norm': 28.40422248840332, 'learning_rate': 1.540775930324624e-05, 'epoch': 0.69}\n",
      "{'loss': 0.2869, 'grad_norm': 16.059673309326172, 'learning_rate': 1.5328582739509106e-05, 'epoch': 0.7}\n",
      "{'loss': 0.2315, 'grad_norm': 18.45688247680664, 'learning_rate': 1.5249406175771972e-05, 'epoch': 0.71}\n",
      "{'loss': 0.2129, 'grad_norm': 8.884775161743164, 'learning_rate': 1.5170229612034839e-05, 'epoch': 0.72}\n",
      "{'loss': 0.2134, 'grad_norm': 309.09112548828125, 'learning_rate': 1.5091053048297705e-05, 'epoch': 0.74}\n",
      "{'loss': 0.2468, 'grad_norm': 36.49197769165039, 'learning_rate': 1.501187648456057e-05, 'epoch': 0.75}\n",
      "{'loss': 0.2393, 'grad_norm': 30.01445770263672, 'learning_rate': 1.4932699920823436e-05, 'epoch': 0.76}\n",
      "{'loss': 0.2289, 'grad_norm': 27.774423599243164, 'learning_rate': 1.4853523357086304e-05, 'epoch': 0.77}\n",
      "{'loss': 0.2153, 'grad_norm': 13.092677116394043, 'learning_rate': 1.477434679334917e-05, 'epoch': 0.78}\n",
      "{'loss': 0.2354, 'grad_norm': 14.767599105834961, 'learning_rate': 1.4695170229612037e-05, 'epoch': 0.8}\n",
      "{'loss': 0.2696, 'grad_norm': 44.45804214477539, 'learning_rate': 1.4615993665874902e-05, 'epoch': 0.81}\n",
      "{'loss': 0.226, 'grad_norm': 4.751675128936768, 'learning_rate': 1.4536817102137768e-05, 'epoch': 0.82}\n",
      "{'loss': 0.2064, 'grad_norm': 13.278250694274902, 'learning_rate': 1.4457640538400634e-05, 'epoch': 0.83}\n",
      "{'loss': 0.2349, 'grad_norm': 48.36203384399414, 'learning_rate': 1.43784639746635e-05, 'epoch': 0.84}\n",
      "{'loss': 0.2051, 'grad_norm': 37.4404411315918, 'learning_rate': 1.4299287410926367e-05, 'epoch': 0.86}\n",
      "{'loss': 0.2166, 'grad_norm': 0.41803455352783203, 'learning_rate': 1.4220110847189232e-05, 'epoch': 0.87}\n",
      "{'loss': 0.2449, 'grad_norm': 9.770970344543457, 'learning_rate': 1.4140934283452098e-05, 'epoch': 0.88}\n",
      "{'loss': 0.219, 'grad_norm': 2.0090811252593994, 'learning_rate': 1.4061757719714966e-05, 'epoch': 0.89}\n",
      "{'loss': 0.2221, 'grad_norm': 13.208927154541016, 'learning_rate': 1.3982581155977833e-05, 'epoch': 0.9}\n",
      "{'loss': 0.1975, 'grad_norm': 104.23590850830078, 'learning_rate': 1.3903404592240697e-05, 'epoch': 0.91}\n",
      "{'loss': 0.1869, 'grad_norm': 1.0387535095214844, 'learning_rate': 1.3824228028503564e-05, 'epoch': 0.93}\n",
      "{'loss': 0.2244, 'grad_norm': 28.69334602355957, 'learning_rate': 1.374505146476643e-05, 'epoch': 0.94}\n",
      "{'loss': 0.2105, 'grad_norm': 17.891029357910156, 'learning_rate': 1.3665874901029297e-05, 'epoch': 0.95}\n",
      "{'loss': 0.2302, 'grad_norm': 16.580913543701172, 'learning_rate': 1.3586698337292163e-05, 'epoch': 0.96}\n",
      "{'loss': 0.19, 'grad_norm': 43.01051330566406, 'learning_rate': 1.3507521773555028e-05, 'epoch': 0.97}\n",
      "{'loss': 0.2169, 'grad_norm': 1.6212053298950195, 'learning_rate': 1.3428345209817894e-05, 'epoch': 0.99}\n",
      "{'loss': 0.1763, 'grad_norm': 43.95536804199219, 'learning_rate': 1.3349168646080762e-05, 'epoch': 1.0}\n"
     ]
    },
    {
     "data": {
      "application/vnd.jupyter.widget-view+json": {
       "model_id": "57a606ed5e3843f6a513b79ac713427d",
       "version_major": 2,
       "version_minor": 0
      },
      "text/plain": [
       "  0%|          | 0/55 [00:00<?, ?it/s]"
      ]
     },
     "metadata": {},
     "output_type": "display_data"
    },
    {
     "name": "stdout",
     "output_type": "stream",
     "text": [
      "{'eval_loss': 0.24951563775539398, 'eval_accuracy': 0.9208715596330275, 'eval_f1': 0.9208231087370571, 'eval_runtime': 2.6916, 'eval_samples_per_second': 323.967, 'eval_steps_per_second': 20.434, 'epoch': 1.0}\n",
      "{'loss': 0.1864, 'grad_norm': 46.451168060302734, 'learning_rate': 1.3269992082343628e-05, 'epoch': 1.01}\n",
      "{'loss': 0.1727, 'grad_norm': 67.98332214355469, 'learning_rate': 1.3190815518606495e-05, 'epoch': 1.02}\n",
      "{'loss': 0.1381, 'grad_norm': 49.632354736328125, 'learning_rate': 1.311163895486936e-05, 'epoch': 1.03}\n",
      "{'loss': 0.2621, 'grad_norm': 21.257112503051758, 'learning_rate': 1.3032462391132226e-05, 'epoch': 1.05}\n",
      "{'loss': 0.2014, 'grad_norm': 51.01828384399414, 'learning_rate': 1.2953285827395092e-05, 'epoch': 1.06}\n",
      "{'loss': 0.1411, 'grad_norm': 13.032458305358887, 'learning_rate': 1.2874109263657959e-05, 'epoch': 1.07}\n",
      "{'loss': 0.1927, 'grad_norm': 5.292421817779541, 'learning_rate': 1.2794932699920823e-05, 'epoch': 1.08}\n",
      "{'loss': 0.187, 'grad_norm': 15.584773063659668, 'learning_rate': 1.271575613618369e-05, 'epoch': 1.09}\n",
      "{'loss': 0.1627, 'grad_norm': 84.31293487548828, 'learning_rate': 1.2636579572446556e-05, 'epoch': 1.1}\n",
      "{'loss': 0.1747, 'grad_norm': 0.32468774914741516, 'learning_rate': 1.2557403008709424e-05, 'epoch': 1.12}\n",
      "{'loss': 0.2198, 'grad_norm': 1.9755955934524536, 'learning_rate': 1.247822644497229e-05, 'epoch': 1.13}\n",
      "{'loss': 0.1752, 'grad_norm': 8.997681617736816, 'learning_rate': 1.2399049881235155e-05, 'epoch': 1.14}\n",
      "{'loss': 0.1922, 'grad_norm': 10.198280334472656, 'learning_rate': 1.2319873317498022e-05, 'epoch': 1.15}\n",
      "{'loss': 0.1671, 'grad_norm': 197.45730590820312, 'learning_rate': 1.2240696753760888e-05, 'epoch': 1.16}\n",
      "{'loss': 0.1966, 'grad_norm': 1.742815375328064, 'learning_rate': 1.2161520190023754e-05, 'epoch': 1.18}\n",
      "{'loss': 0.1576, 'grad_norm': 0.9806732535362244, 'learning_rate': 1.208234362628662e-05, 'epoch': 1.19}\n",
      "{'loss': 0.1938, 'grad_norm': 13.238409996032715, 'learning_rate': 1.2003167062549485e-05, 'epoch': 1.2}\n",
      "{'loss': 0.1898, 'grad_norm': 0.753220796585083, 'learning_rate': 1.1923990498812352e-05, 'epoch': 1.21}\n",
      "{'loss': 0.164, 'grad_norm': 12.082216262817383, 'learning_rate': 1.1844813935075218e-05, 'epoch': 1.22}\n",
      "{'loss': 0.1645, 'grad_norm': 0.6999750733375549, 'learning_rate': 1.1765637371338086e-05, 'epoch': 1.24}\n",
      "{'loss': 0.185, 'grad_norm': 40.919105529785156, 'learning_rate': 1.168646080760095e-05, 'epoch': 1.25}\n",
      "{'loss': 0.1703, 'grad_norm': 2.836854934692383, 'learning_rate': 1.1607284243863817e-05, 'epoch': 1.26}\n",
      "{'loss': 0.1363, 'grad_norm': 0.7341217398643494, 'learning_rate': 1.1528107680126684e-05, 'epoch': 1.27}\n",
      "{'loss': 0.2179, 'grad_norm': 1.3185245990753174, 'learning_rate': 1.144893111638955e-05, 'epoch': 1.28}\n",
      "{'loss': 0.1807, 'grad_norm': 23.435279846191406, 'learning_rate': 1.1369754552652416e-05, 'epoch': 1.29}\n",
      "{'loss': 0.1657, 'grad_norm': 0.281570702791214, 'learning_rate': 1.1290577988915281e-05, 'epoch': 1.31}\n",
      "{'loss': 0.1938, 'grad_norm': 0.9477359056472778, 'learning_rate': 1.1211401425178147e-05, 'epoch': 1.32}\n",
      "{'loss': 0.1818, 'grad_norm': 13.490694999694824, 'learning_rate': 1.1132224861441014e-05, 'epoch': 1.33}\n",
      "{'loss': 0.1386, 'grad_norm': 13.940959930419922, 'learning_rate': 1.1053048297703882e-05, 'epoch': 1.34}\n",
      "{'loss': 0.1537, 'grad_norm': 1.156050443649292, 'learning_rate': 1.0973871733966748e-05, 'epoch': 1.35}\n",
      "{'loss': 0.1665, 'grad_norm': 0.9478947520256042, 'learning_rate': 1.0894695170229613e-05, 'epoch': 1.37}\n",
      "{'loss': 0.1423, 'grad_norm': 11.076811790466309, 'learning_rate': 1.081551860649248e-05, 'epoch': 1.38}\n",
      "{'loss': 0.1882, 'grad_norm': 0.2433464378118515, 'learning_rate': 1.0736342042755346e-05, 'epoch': 1.39}\n",
      "{'loss': 0.2041, 'grad_norm': 63.77296829223633, 'learning_rate': 1.0657165479018212e-05, 'epoch': 1.4}\n",
      "{'loss': 0.1558, 'grad_norm': 129.5043487548828, 'learning_rate': 1.0577988915281077e-05, 'epoch': 1.41}\n",
      "{'loss': 0.1688, 'grad_norm': 29.893657684326172, 'learning_rate': 1.0498812351543943e-05, 'epoch': 1.43}\n",
      "{'loss': 0.165, 'grad_norm': 0.9030327200889587, 'learning_rate': 1.041963578780681e-05, 'epoch': 1.44}\n",
      "{'loss': 0.2164, 'grad_norm': 41.63321304321289, 'learning_rate': 1.0340459224069676e-05, 'epoch': 1.45}\n",
      "{'loss': 0.2072, 'grad_norm': 0.5994269251823425, 'learning_rate': 1.0261282660332544e-05, 'epoch': 1.46}\n",
      "{'loss': 0.1686, 'grad_norm': 7.485840320587158, 'learning_rate': 1.0182106096595407e-05, 'epoch': 1.47}\n",
      "{'loss': 0.1757, 'grad_norm': 0.4196743965148926, 'learning_rate': 1.0102929532858275e-05, 'epoch': 1.48}\n",
      "{'loss': 0.1416, 'grad_norm': 46.910011291503906, 'learning_rate': 1.0023752969121141e-05, 'epoch': 1.5}\n",
      "{'loss': 0.1629, 'grad_norm': 38.038291931152344, 'learning_rate': 9.944576405384006e-06, 'epoch': 1.51}\n",
      "{'loss': 0.1781, 'grad_norm': 21.885709762573242, 'learning_rate': 9.865399841646872e-06, 'epoch': 1.52}\n",
      "{'loss': 0.1468, 'grad_norm': 0.10564950108528137, 'learning_rate': 9.78622327790974e-06, 'epoch': 1.53}\n",
      "{'loss': 0.2339, 'grad_norm': 14.498251914978027, 'learning_rate': 9.707046714172605e-06, 'epoch': 1.54}\n",
      "{'loss': 0.1508, 'grad_norm': 1.0519822835922241, 'learning_rate': 9.627870150435472e-06, 'epoch': 1.56}\n",
      "{'loss': 0.1305, 'grad_norm': 0.8922768235206604, 'learning_rate': 9.548693586698338e-06, 'epoch': 1.57}\n",
      "{'loss': 0.2055, 'grad_norm': 6.497259140014648, 'learning_rate': 9.469517022961204e-06, 'epoch': 1.58}\n",
      "{'loss': 0.1262, 'grad_norm': 0.17230777442455292, 'learning_rate': 9.39034045922407e-06, 'epoch': 1.59}\n",
      "{'loss': 0.1929, 'grad_norm': 42.39678192138672, 'learning_rate': 9.311163895486937e-06, 'epoch': 1.6}\n",
      "{'loss': 0.2539, 'grad_norm': 0.5449745059013367, 'learning_rate': 9.231987331749803e-06, 'epoch': 1.62}\n",
      "{'loss': 0.1774, 'grad_norm': 32.65919876098633, 'learning_rate': 9.152810768012668e-06, 'epoch': 1.63}\n",
      "{'loss': 0.184, 'grad_norm': 15.668468475341797, 'learning_rate': 9.073634204275536e-06, 'epoch': 1.64}\n",
      "{'loss': 0.1623, 'grad_norm': 1.0953407287597656, 'learning_rate': 8.994457640538401e-06, 'epoch': 1.65}\n",
      "{'loss': 0.206, 'grad_norm': 1.511757254600525, 'learning_rate': 8.915281076801267e-06, 'epoch': 1.66}\n",
      "{'loss': 0.1521, 'grad_norm': 0.22558724880218506, 'learning_rate': 8.836104513064134e-06, 'epoch': 1.67}\n",
      "{'loss': 0.1593, 'grad_norm': 122.81761932373047, 'learning_rate': 8.756927949327e-06, 'epoch': 1.69}\n",
      "{'loss': 0.1829, 'grad_norm': 0.13188320398330688, 'learning_rate': 8.677751385589866e-06, 'epoch': 1.7}\n",
      "{'loss': 0.184, 'grad_norm': 3.4702258110046387, 'learning_rate': 8.598574821852733e-06, 'epoch': 1.71}\n",
      "{'loss': 0.1813, 'grad_norm': 4.146152973175049, 'learning_rate': 8.5193982581156e-06, 'epoch': 1.72}\n",
      "{'loss': 0.181, 'grad_norm': 27.957555770874023, 'learning_rate': 8.440221694378464e-06, 'epoch': 1.73}\n",
      "{'loss': 0.1869, 'grad_norm': 92.23410034179688, 'learning_rate': 8.36104513064133e-06, 'epoch': 1.75}\n",
      "{'loss': 0.1391, 'grad_norm': 3.264209508895874, 'learning_rate': 8.281868566904197e-06, 'epoch': 1.76}\n",
      "{'loss': 0.1775, 'grad_norm': 4.140627384185791, 'learning_rate': 8.202692003167063e-06, 'epoch': 1.77}\n",
      "{'loss': 0.1931, 'grad_norm': 27.22170066833496, 'learning_rate': 8.12351543942993e-06, 'epoch': 1.78}\n",
      "{'loss': 0.2086, 'grad_norm': 21.961170196533203, 'learning_rate': 8.044338875692796e-06, 'epoch': 1.79}\n",
      "{'loss': 0.1409, 'grad_norm': 14.37613582611084, 'learning_rate': 7.965162311955662e-06, 'epoch': 1.81}\n",
      "{'loss': 0.1821, 'grad_norm': 1.462497353553772, 'learning_rate': 7.885985748218527e-06, 'epoch': 1.82}\n",
      "{'loss': 0.2031, 'grad_norm': 3.691011905670166, 'learning_rate': 7.806809184481395e-06, 'epoch': 1.83}\n",
      "{'loss': 0.1611, 'grad_norm': 0.12681697309017181, 'learning_rate': 7.72763262074426e-06, 'epoch': 1.84}\n",
      "{'loss': 0.1559, 'grad_norm': 1.1481122970581055, 'learning_rate': 7.648456057007126e-06, 'epoch': 1.85}\n",
      "{'loss': 0.147, 'grad_norm': 17.918052673339844, 'learning_rate': 7.569279493269993e-06, 'epoch': 1.86}\n",
      "{'loss': 0.1592, 'grad_norm': 24.0374698638916, 'learning_rate': 7.490102929532859e-06, 'epoch': 1.88}\n",
      "{'loss': 0.2145, 'grad_norm': 37.41741180419922, 'learning_rate': 7.410926365795725e-06, 'epoch': 1.89}\n",
      "{'loss': 0.1578, 'grad_norm': 0.28981146216392517, 'learning_rate': 7.331749802058591e-06, 'epoch': 1.9}\n",
      "{'loss': 0.1853, 'grad_norm': 0.41853323578834534, 'learning_rate': 7.252573238321458e-06, 'epoch': 1.91}\n",
      "{'loss': 0.1681, 'grad_norm': 11.327240943908691, 'learning_rate': 7.173396674584323e-06, 'epoch': 1.92}\n",
      "{'loss': 0.1176, 'grad_norm': 0.4891650378704071, 'learning_rate': 7.09422011084719e-06, 'epoch': 1.94}\n",
      "{'loss': 0.1991, 'grad_norm': 95.95331573486328, 'learning_rate': 7.015043547110056e-06, 'epoch': 1.95}\n",
      "{'loss': 0.1896, 'grad_norm': 0.40892332792282104, 'learning_rate': 6.935866983372922e-06, 'epoch': 1.96}\n",
      "{'loss': 0.1365, 'grad_norm': 0.1916283220052719, 'learning_rate': 6.856690419635789e-06, 'epoch': 1.97}\n",
      "{'loss': 0.1514, 'grad_norm': 33.796363830566406, 'learning_rate': 6.777513855898654e-06, 'epoch': 1.98}\n",
      "{'loss': 0.1298, 'grad_norm': 7.610016822814941, 'learning_rate': 6.698337292161521e-06, 'epoch': 2.0}\n"
     ]
    },
    {
     "data": {
      "application/vnd.jupyter.widget-view+json": {
       "model_id": "91162ddbc09f4beea36610b634ad1120",
       "version_major": 2,
       "version_minor": 0
      },
      "text/plain": [
       "  0%|          | 0/55 [00:00<?, ?it/s]"
      ]
     },
     "metadata": {},
     "output_type": "display_data"
    },
    {
     "name": "stdout",
     "output_type": "stream",
     "text": [
      "{'eval_loss': 0.3881010115146637, 'eval_accuracy': 0.9094036697247706, 'eval_f1': 0.9092812750083504, 'eval_runtime': 2.6133, 'eval_samples_per_second': 333.673, 'eval_steps_per_second': 21.046, 'epoch': 2.0}\n",
      "{'loss': 0.1238, 'grad_norm': 0.0902155339717865, 'learning_rate': 6.619160728424386e-06, 'epoch': 2.01}\n",
      "{'loss': 0.1072, 'grad_norm': 154.0924530029297, 'learning_rate': 6.539984164687253e-06, 'epoch': 2.02}\n",
      "{'loss': 0.1092, 'grad_norm': 0.7110086679458618, 'learning_rate': 6.46080760095012e-06, 'epoch': 2.03}\n",
      "{'loss': 0.1427, 'grad_norm': 21.517030715942383, 'learning_rate': 6.3816310372129854e-06, 'epoch': 2.04}\n",
      "{'loss': 0.0972, 'grad_norm': 0.18759001791477203, 'learning_rate': 6.302454473475852e-06, 'epoch': 2.05}\n",
      "{'loss': 0.0779, 'grad_norm': 0.16151940822601318, 'learning_rate': 6.223277909738717e-06, 'epoch': 2.07}\n",
      "{'loss': 0.111, 'grad_norm': 26.44621467590332, 'learning_rate': 6.1441013460015846e-06, 'epoch': 2.08}\n",
      "{'loss': 0.1444, 'grad_norm': 1.1220194101333618, 'learning_rate': 6.06492478226445e-06, 'epoch': 2.09}\n",
      "{'loss': 0.0859, 'grad_norm': 12.177943229675293, 'learning_rate': 5.9857482185273165e-06, 'epoch': 2.1}\n",
      "{'loss': 0.1062, 'grad_norm': 26.636659622192383, 'learning_rate': 5.906571654790183e-06, 'epoch': 2.11}\n",
      "{'loss': 0.1453, 'grad_norm': 0.14501766860485077, 'learning_rate': 5.827395091053048e-06, 'epoch': 2.13}\n",
      "{'loss': 0.1293, 'grad_norm': 0.09798507392406464, 'learning_rate': 5.748218527315916e-06, 'epoch': 2.14}\n",
      "{'loss': 0.1212, 'grad_norm': 0.15488576889038086, 'learning_rate': 5.669041963578781e-06, 'epoch': 2.15}\n",
      "{'loss': 0.1239, 'grad_norm': 18.08199691772461, 'learning_rate': 5.5898653998416475e-06, 'epoch': 2.16}\n",
      "{'loss': 0.153, 'grad_norm': 0.44438815116882324, 'learning_rate': 5.510688836104513e-06, 'epoch': 2.17}\n",
      "{'loss': 0.0939, 'grad_norm': 0.16645939648151398, 'learning_rate': 5.431512272367379e-06, 'epoch': 2.19}\n",
      "{'loss': 0.1126, 'grad_norm': 28.832136154174805, 'learning_rate': 5.352335708630247e-06, 'epoch': 2.2}\n",
      "{'loss': 0.1454, 'grad_norm': 2.9672093391418457, 'learning_rate': 5.273159144893112e-06, 'epoch': 2.21}\n",
      "{'loss': 0.1449, 'grad_norm': 43.4296760559082, 'learning_rate': 5.1939825811559785e-06, 'epoch': 2.22}\n",
      "{'loss': 0.0883, 'grad_norm': 46.45865249633789, 'learning_rate': 5.114806017418844e-06, 'epoch': 2.23}\n",
      "{'loss': 0.1228, 'grad_norm': 28.67708969116211, 'learning_rate': 5.0356294536817105e-06, 'epoch': 2.24}\n",
      "{'loss': 0.095, 'grad_norm': 55.16139602661133, 'learning_rate': 4.956452889944577e-06, 'epoch': 2.26}\n",
      "{'loss': 0.1666, 'grad_norm': 0.10664225369691849, 'learning_rate': 4.877276326207443e-06, 'epoch': 2.27}\n",
      "{'loss': 0.0888, 'grad_norm': 0.11663800477981567, 'learning_rate': 4.798099762470309e-06, 'epoch': 2.28}\n",
      "{'loss': 0.0964, 'grad_norm': 0.174486443400383, 'learning_rate': 4.718923198733175e-06, 'epoch': 2.29}\n",
      "{'loss': 0.1323, 'grad_norm': 0.05189967155456543, 'learning_rate': 4.6397466349960415e-06, 'epoch': 2.3}\n",
      "{'loss': 0.1124, 'grad_norm': 0.10091349482536316, 'learning_rate': 4.560570071258908e-06, 'epoch': 2.32}\n",
      "{'loss': 0.154, 'grad_norm': 59.91497802734375, 'learning_rate': 4.481393507521774e-06, 'epoch': 2.33}\n",
      "{'loss': 0.1106, 'grad_norm': 14.252371788024902, 'learning_rate': 4.40221694378464e-06, 'epoch': 2.34}\n",
      "{'loss': 0.107, 'grad_norm': 10.059943199157715, 'learning_rate': 4.323040380047506e-06, 'epoch': 2.35}\n",
      "{'loss': 0.0848, 'grad_norm': 34.29536056518555, 'learning_rate': 4.2438638163103725e-06, 'epoch': 2.36}\n",
      "{'loss': 0.168, 'grad_norm': 0.20333409309387207, 'learning_rate': 4.164687252573238e-06, 'epoch': 2.38}\n",
      "{'loss': 0.151, 'grad_norm': 0.6927196979522705, 'learning_rate': 4.0855106888361044e-06, 'epoch': 2.39}\n",
      "{'loss': 0.0991, 'grad_norm': 0.07736930251121521, 'learning_rate': 4.006334125098972e-06, 'epoch': 2.4}\n",
      "{'loss': 0.1107, 'grad_norm': 0.4082421362400055, 'learning_rate': 3.927157561361837e-06, 'epoch': 2.41}\n",
      "{'loss': 0.1353, 'grad_norm': 0.21899615228176117, 'learning_rate': 3.8479809976247036e-06, 'epoch': 2.42}\n",
      "{'loss': 0.1235, 'grad_norm': 0.20550532639026642, 'learning_rate': 3.7688044338875695e-06, 'epoch': 2.43}\n",
      "{'loss': 0.1077, 'grad_norm': 0.6527745127677917, 'learning_rate': 3.6896278701504355e-06, 'epoch': 2.45}\n",
      "{'loss': 0.0544, 'grad_norm': 2.2359373569488525, 'learning_rate': 3.610451306413302e-06, 'epoch': 2.46}\n",
      "{'loss': 0.1049, 'grad_norm': 0.0645795539021492, 'learning_rate': 3.531274742676168e-06, 'epoch': 2.47}\n",
      "{'loss': 0.1027, 'grad_norm': 21.672332763671875, 'learning_rate': 3.4520981789390346e-06, 'epoch': 2.48}\n",
      "{'loss': 0.1462, 'grad_norm': 24.764976501464844, 'learning_rate': 3.3729216152019006e-06, 'epoch': 2.49}\n",
      "{'loss': 0.1174, 'grad_norm': 0.31003037095069885, 'learning_rate': 3.293745051464767e-06, 'epoch': 2.51}\n",
      "{'loss': 0.1133, 'grad_norm': 22.266727447509766, 'learning_rate': 3.214568487727633e-06, 'epoch': 2.52}\n",
      "{'loss': 0.1453, 'grad_norm': 25.41376495361328, 'learning_rate': 3.135391923990499e-06, 'epoch': 2.53}\n",
      "{'loss': 0.1162, 'grad_norm': 0.1608540564775467, 'learning_rate': 3.0562153602533652e-06, 'epoch': 2.54}\n",
      "{'loss': 0.1083, 'grad_norm': 0.05953454226255417, 'learning_rate': 2.977038796516231e-06, 'epoch': 2.55}\n",
      "{'loss': 0.1053, 'grad_norm': 28.030893325805664, 'learning_rate': 2.897862232779098e-06, 'epoch': 2.57}\n",
      "{'loss': 0.1062, 'grad_norm': 0.2616620659828186, 'learning_rate': 2.818685669041964e-06, 'epoch': 2.58}\n",
      "{'loss': 0.144, 'grad_norm': 0.0558222196996212, 'learning_rate': 2.73950910530483e-06, 'epoch': 2.59}\n",
      "{'loss': 0.0852, 'grad_norm': 46.78225326538086, 'learning_rate': 2.6603325415676963e-06, 'epoch': 2.6}\n",
      "{'loss': 0.1624, 'grad_norm': 116.16010284423828, 'learning_rate': 2.581155977830562e-06, 'epoch': 2.61}\n",
      "{'loss': 0.1545, 'grad_norm': 11.55517578125, 'learning_rate': 2.501979414093428e-06, 'epoch': 2.62}\n",
      "{'loss': 0.1049, 'grad_norm': 31.79068374633789, 'learning_rate': 2.422802850356295e-06, 'epoch': 2.64}\n",
      "{'loss': 0.1292, 'grad_norm': 38.27762985229492, 'learning_rate': 2.343626286619161e-06, 'epoch': 2.65}\n",
      "{'loss': 0.1062, 'grad_norm': 4.366245746612549, 'learning_rate': 2.264449722882027e-06, 'epoch': 2.66}\n",
      "{'loss': 0.1001, 'grad_norm': 0.6800593137741089, 'learning_rate': 2.1852731591448932e-06, 'epoch': 2.67}\n",
      "{'loss': 0.1256, 'grad_norm': 0.23230069875717163, 'learning_rate': 2.1060965954077596e-06, 'epoch': 2.68}\n",
      "{'loss': 0.0711, 'grad_norm': 0.6650217175483704, 'learning_rate': 2.0269200316706256e-06, 'epoch': 2.7}\n",
      "{'loss': 0.0978, 'grad_norm': 0.3096897006034851, 'learning_rate': 1.947743467933492e-06, 'epoch': 2.71}\n",
      "{'loss': 0.0498, 'grad_norm': 0.8297039866447449, 'learning_rate': 1.8685669041963581e-06, 'epoch': 2.72}\n",
      "{'loss': 0.1204, 'grad_norm': 39.92491912841797, 'learning_rate': 1.789390340459224e-06, 'epoch': 2.73}\n",
      "{'loss': 0.1189, 'grad_norm': 36.01243591308594, 'learning_rate': 1.7102137767220902e-06, 'epoch': 2.74}\n",
      "{'loss': 0.12, 'grad_norm': 0.04067861661314964, 'learning_rate': 1.6310372129849566e-06, 'epoch': 2.76}\n",
      "{'loss': 0.1207, 'grad_norm': 12.564297676086426, 'learning_rate': 1.5518606492478228e-06, 'epoch': 2.77}\n",
      "{'loss': 0.1129, 'grad_norm': 8.953608512878418, 'learning_rate': 1.472684085510689e-06, 'epoch': 2.78}\n",
      "{'loss': 0.1126, 'grad_norm': 85.4163589477539, 'learning_rate': 1.3935075217735553e-06, 'epoch': 2.79}\n",
      "{'loss': 0.1036, 'grad_norm': 52.427101135253906, 'learning_rate': 1.3143309580364213e-06, 'epoch': 2.8}\n",
      "{'loss': 0.1161, 'grad_norm': 0.1888929158449173, 'learning_rate': 1.2351543942992874e-06, 'epoch': 2.81}\n",
      "{'loss': 0.1328, 'grad_norm': 0.1508382260799408, 'learning_rate': 1.1559778305621536e-06, 'epoch': 2.83}\n",
      "{'loss': 0.1246, 'grad_norm': 22.758419036865234, 'learning_rate': 1.0768012668250198e-06, 'epoch': 2.84}\n",
      "{'loss': 0.1, 'grad_norm': 0.10067769885063171, 'learning_rate': 9.976247030878861e-07, 'epoch': 2.85}\n",
      "{'loss': 0.087, 'grad_norm': 0.1307181566953659, 'learning_rate': 9.184481393507523e-07, 'epoch': 2.86}\n",
      "{'loss': 0.0701, 'grad_norm': 0.3184894323348999, 'learning_rate': 8.392715756136184e-07, 'epoch': 2.87}\n",
      "{'loss': 0.1091, 'grad_norm': 0.14023920893669128, 'learning_rate': 7.600950118764846e-07, 'epoch': 2.89}\n",
      "{'loss': 0.1413, 'grad_norm': 12.140398979187012, 'learning_rate': 6.809184481393508e-07, 'epoch': 2.9}\n",
      "{'loss': 0.1578, 'grad_norm': 204.2420654296875, 'learning_rate': 6.01741884402217e-07, 'epoch': 2.91}\n",
      "{'loss': 0.0787, 'grad_norm': 0.20717844367027283, 'learning_rate': 5.225653206650831e-07, 'epoch': 2.92}\n",
      "{'loss': 0.1046, 'grad_norm': 0.1523704081773758, 'learning_rate': 4.4338875692794936e-07, 'epoch': 2.93}\n",
      "{'loss': 0.1149, 'grad_norm': 21.043302536010742, 'learning_rate': 3.642121931908155e-07, 'epoch': 2.95}\n",
      "{'loss': 0.087, 'grad_norm': 0.2929200530052185, 'learning_rate': 2.8503562945368174e-07, 'epoch': 2.96}\n",
      "{'loss': 0.1386, 'grad_norm': 0.41160982847213745, 'learning_rate': 2.0585906571654793e-07, 'epoch': 2.97}\n",
      "{'loss': 0.1126, 'grad_norm': 22.032081604003906, 'learning_rate': 1.266825019794141e-07, 'epoch': 2.98}\n",
      "{'loss': 0.1006, 'grad_norm': 0.537311851978302, 'learning_rate': 4.750593824228029e-08, 'epoch': 2.99}\n"
     ]
    },
    {
     "data": {
      "application/vnd.jupyter.widget-view+json": {
       "model_id": "febf82b292de44bc9d2b4c8faf209c96",
       "version_major": 2,
       "version_minor": 0
      },
      "text/plain": [
       "  0%|          | 0/55 [00:00<?, ?it/s]"
      ]
     },
     "metadata": {},
     "output_type": "display_data"
    },
    {
     "name": "stdout",
     "output_type": "stream",
     "text": [
      "{'eval_loss': 0.40363919734954834, 'eval_accuracy': 0.9174311926605505, 'eval_f1': 0.9174103279012834, 'eval_runtime': 2.6268, 'eval_samples_per_second': 331.959, 'eval_steps_per_second': 20.938, 'epoch': 3.0}\n",
      "{'train_runtime': 1681.498, 'train_samples_per_second': 120.159, 'train_steps_per_second': 7.511, 'train_loss': 0.1836383237785889, 'epoch': 3.0}\n"
     ]
    },
    {
     "data": {
      "text/plain": [
       "TrainOutput(global_step=12630, training_loss=0.1836383237785889, metrics={'train_runtime': 1681.498, 'train_samples_per_second': 120.159, 'train_steps_per_second': 7.511, 'total_flos': 1207134941575680.0, 'train_loss': 0.1836383237785889, 'epoch': 3.0})"
      ]
     },
     "execution_count": 12,
     "metadata": {},
     "output_type": "execute_result"
    }
   ],
   "source": [
    "# Fine-tune the model\n",
    "print(\"Starting fine-tuning...\")\n",
    "trainer.train()"
   ]
  },
  {
   "cell_type": "code",
   "execution_count": 13,
   "metadata": {},
   "outputs": [
    {
     "name": "stdout",
     "output_type": "stream",
     "text": [
      "Evaluating model on validation set...\n"
     ]
    },
    {
     "data": {
      "application/vnd.jupyter.widget-view+json": {
       "model_id": "6de20f45c5a545e6831125fec43ece6d",
       "version_major": 2,
       "version_minor": 0
      },
      "text/plain": [
       "  0%|          | 0/55 [00:00<?, ?it/s]"
      ]
     },
     "metadata": {},
     "output_type": "display_data"
    },
    {
     "name": "stdout",
     "output_type": "stream",
     "text": [
      "Evaluation results: {'eval_loss': 0.24951563775539398, 'eval_accuracy': 0.9208715596330275, 'eval_f1': 0.9208231087370571, 'eval_runtime': 2.6088, 'eval_samples_per_second': 334.255, 'eval_steps_per_second': 21.083, 'epoch': 3.0}\n"
     ]
    }
   ],
   "source": [
    "# Evaluate the model on the validation set\n",
    "print(\"Evaluating model on validation set...\")\n",
    "eval_results = trainer.evaluate()\n",
    "print(f\"Evaluation results: {eval_results}\")"
   ]
  },
  {
   "cell_type": "code",
   "execution_count": 14,
   "metadata": {},
   "outputs": [
    {
     "name": "stdout",
     "output_type": "stream",
     "text": [
      "Saving the fine-tuned model...\n",
      "Fine-tuning complete and model saved!\n"
     ]
    }
   ],
   "source": [
    "# Save the final model\n",
    "print(\"Saving the fine-tuned model...\")\n",
    "model.save_pretrained(\"./fine_tuned_albert\")\n",
    "tokenizer.save_pretrained(\"./fine_tuned_albert\")\n",
    "print(\"Fine-tuning complete and model saved!\")"
   ]
  },
  {
   "cell_type": "code",
   "execution_count": 18,
   "metadata": {},
   "outputs": [],
   "source": [
    "# Save results in a csv file\n",
    "import pandas as pd\n",
    "\n",
    "# Create a DataFrame with the task name and evaluation results\n",
    "results = pd.DataFrame({\"task\": [TASK_NAME], **eval_results})\n",
    "\n",
    "# Save the results to a CSV file\n",
    "results.to_csv(\"./results.csv\", index=False)"
   ]
  }
 ],
 "metadata": {
  "kernelspec": {
   "display_name": "base",
   "language": "python",
   "name": "python3"
  },
  "language_info": {
   "codemirror_mode": {
    "name": "ipython",
    "version": 3
   },
   "file_extension": ".py",
   "mimetype": "text/x-python",
   "name": "python",
   "nbconvert_exporter": "python",
   "pygments_lexer": "ipython3",
   "version": "3.12.2"
  }
 },
 "nbformat": 4,
 "nbformat_minor": 2
}
